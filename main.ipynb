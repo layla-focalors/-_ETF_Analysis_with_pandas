{
 "cells": [
  {
   "cell_type": "code",
   "execution_count": 5,
   "metadata": {},
   "outputs": [
    {
     "name": "stdout",
     "output_type": "stream",
     "text": [
      "['datamap.csv']\n"
     ]
    }
   ],
   "source": [
    "import os\n",
    "print(os.listdir('/workspaces/-_ETF_Analysis_with_pandas/data'))"
   ]
  },
  {
   "cell_type": "code",
   "execution_count": 7,
   "metadata": {},
   "outputs": [
    {
     "name": "stdout",
     "output_type": "stream",
     "text": [
      "     No.          종목코드                 종목명         수량(주)     평가금액(원)  비중(%)\n",
      "0      1  US5949181045           MICROSOFT  1.843100e+02   100984582  7.16%\n",
      "1      2  US0378331005           APPLE INC  3.625600e+02    88970944  6.31%\n",
      "2      3  US67066G1040              NVIDIA  6.124000e+01    64016669  4.54%\n",
      "3      4  US0231351067      Amazon.com Inc  2.255300e+02    52405499  3.72%\n",
      "4      5  US30303M1027  META PLATFORMS Inc  5.503000e+01    35606557  2.52%\n",
      "..   ...           ...                 ...           ...         ...    ...\n",
      "499  500  US9182041080             VF Corp  8.210000e+00      173747  0.01%\n",
      "500  501  US92556H2067       ViacomCBS Inc  1.198000e+01      186720  0.01%\n",
      "501  502  US9633201069      WHIRLPOOL CORP  1.370000e+00      203262  0.01%\n",
      "502  503  US9897011071    Zions Bancorp NA  3.670000e+00      193681  0.01%\n",
      "503  504  CASH00000001           100%현금설정액  1.410367e+09  1410367445       \n",
      "\n",
      "[504 rows x 6 columns]\n"
     ]
    }
   ],
   "source": [
    "import pandas as pd \n",
    "data = pd.read_csv('/workspaces/-_ETF_Analysis_with_pandas/data/datamap.csv')\n",
    "print(data)"
   ]
  },
  {
   "cell_type": "code",
   "execution_count": 12,
   "metadata": {},
   "outputs": [],
   "source": [
    "data.columns = ['index1', 'code', 'company_name', 'quantity', 'inf_price', 'percent']"
   ]
  },
  {
   "cell_type": "code",
   "execution_count": 13,
   "metadata": {},
   "outputs": [
    {
     "data": {
      "text/plain": [
       "Index(['index1', 'code', 'company_name', 'quantity', 'inf_price', 'percent'], dtype='object')"
      ]
     },
     "execution_count": 13,
     "metadata": {},
     "output_type": "execute_result"
    }
   ],
   "source": [
    "data.columns"
   ]
  },
  {
   "cell_type": "code",
   "execution_count": 14,
   "metadata": {},
   "outputs": [
    {
     "data": {
      "text/html": [
       "<div>\n",
       "<style scoped>\n",
       "    .dataframe tbody tr th:only-of-type {\n",
       "        vertical-align: middle;\n",
       "    }\n",
       "\n",
       "    .dataframe tbody tr th {\n",
       "        vertical-align: top;\n",
       "    }\n",
       "\n",
       "    .dataframe thead th {\n",
       "        text-align: right;\n",
       "    }\n",
       "</style>\n",
       "<table border=\"1\" class=\"dataframe\">\n",
       "  <thead>\n",
       "    <tr style=\"text-align: right;\">\n",
       "      <th></th>\n",
       "      <th>index1</th>\n",
       "      <th>code</th>\n",
       "      <th>company_name</th>\n",
       "      <th>quantity</th>\n",
       "      <th>inf_price</th>\n",
       "      <th>percent</th>\n",
       "    </tr>\n",
       "  </thead>\n",
       "  <tbody>\n",
       "    <tr>\n",
       "      <th>0</th>\n",
       "      <td>1</td>\n",
       "      <td>US5949181045</td>\n",
       "      <td>MICROSOFT</td>\n",
       "      <td>184.31</td>\n",
       "      <td>100984582</td>\n",
       "      <td>7.16%</td>\n",
       "    </tr>\n",
       "    <tr>\n",
       "      <th>1</th>\n",
       "      <td>2</td>\n",
       "      <td>US0378331005</td>\n",
       "      <td>APPLE INC</td>\n",
       "      <td>362.56</td>\n",
       "      <td>88970944</td>\n",
       "      <td>6.31%</td>\n",
       "    </tr>\n",
       "    <tr>\n",
       "      <th>2</th>\n",
       "      <td>3</td>\n",
       "      <td>US67066G1040</td>\n",
       "      <td>NVIDIA</td>\n",
       "      <td>61.24</td>\n",
       "      <td>64016669</td>\n",
       "      <td>4.54%</td>\n",
       "    </tr>\n",
       "    <tr>\n",
       "      <th>3</th>\n",
       "      <td>4</td>\n",
       "      <td>US0231351067</td>\n",
       "      <td>Amazon.com Inc</td>\n",
       "      <td>225.53</td>\n",
       "      <td>52405499</td>\n",
       "      <td>3.72%</td>\n",
       "    </tr>\n",
       "    <tr>\n",
       "      <th>4</th>\n",
       "      <td>5</td>\n",
       "      <td>US30303M1027</td>\n",
       "      <td>META PLATFORMS Inc</td>\n",
       "      <td>55.03</td>\n",
       "      <td>35606557</td>\n",
       "      <td>2.52%</td>\n",
       "    </tr>\n",
       "  </tbody>\n",
       "</table>\n",
       "</div>"
      ],
      "text/plain": [
       "   index1          code        company_name  quantity  inf_price percent\n",
       "0       1  US5949181045           MICROSOFT    184.31  100984582   7.16%\n",
       "1       2  US0378331005           APPLE INC    362.56   88970944   6.31%\n",
       "2       3  US67066G1040              NVIDIA     61.24   64016669   4.54%\n",
       "3       4  US0231351067      Amazon.com Inc    225.53   52405499   3.72%\n",
       "4       5  US30303M1027  META PLATFORMS Inc     55.03   35606557   2.52%"
      ]
     },
     "execution_count": 14,
     "metadata": {},
     "output_type": "execute_result"
    }
   ],
   "source": [
    "data.head()"
   ]
  },
  {
   "cell_type": "code",
   "execution_count": 15,
   "metadata": {},
   "outputs": [],
   "source": [
    "data = data.drop('index1', axis=1)"
   ]
  },
  {
   "cell_type": "code",
   "execution_count": 16,
   "metadata": {},
   "outputs": [
    {
     "data": {
      "text/html": [
       "<div>\n",
       "<style scoped>\n",
       "    .dataframe tbody tr th:only-of-type {\n",
       "        vertical-align: middle;\n",
       "    }\n",
       "\n",
       "    .dataframe tbody tr th {\n",
       "        vertical-align: top;\n",
       "    }\n",
       "\n",
       "    .dataframe thead th {\n",
       "        text-align: right;\n",
       "    }\n",
       "</style>\n",
       "<table border=\"1\" class=\"dataframe\">\n",
       "  <thead>\n",
       "    <tr style=\"text-align: right;\">\n",
       "      <th></th>\n",
       "      <th>code</th>\n",
       "      <th>company_name</th>\n",
       "      <th>quantity</th>\n",
       "      <th>inf_price</th>\n",
       "      <th>percent</th>\n",
       "    </tr>\n",
       "  </thead>\n",
       "  <tbody>\n",
       "    <tr>\n",
       "      <th>0</th>\n",
       "      <td>US5949181045</td>\n",
       "      <td>MICROSOFT</td>\n",
       "      <td>1.843100e+02</td>\n",
       "      <td>100984582</td>\n",
       "      <td>7.16%</td>\n",
       "    </tr>\n",
       "    <tr>\n",
       "      <th>1</th>\n",
       "      <td>US0378331005</td>\n",
       "      <td>APPLE INC</td>\n",
       "      <td>3.625600e+02</td>\n",
       "      <td>88970944</td>\n",
       "      <td>6.31%</td>\n",
       "    </tr>\n",
       "    <tr>\n",
       "      <th>2</th>\n",
       "      <td>US67066G1040</td>\n",
       "      <td>NVIDIA</td>\n",
       "      <td>6.124000e+01</td>\n",
       "      <td>64016669</td>\n",
       "      <td>4.54%</td>\n",
       "    </tr>\n",
       "    <tr>\n",
       "      <th>3</th>\n",
       "      <td>US0231351067</td>\n",
       "      <td>Amazon.com Inc</td>\n",
       "      <td>2.255300e+02</td>\n",
       "      <td>52405499</td>\n",
       "      <td>3.72%</td>\n",
       "    </tr>\n",
       "    <tr>\n",
       "      <th>4</th>\n",
       "      <td>US30303M1027</td>\n",
       "      <td>META PLATFORMS Inc</td>\n",
       "      <td>5.503000e+01</td>\n",
       "      <td>35606557</td>\n",
       "      <td>2.52%</td>\n",
       "    </tr>\n",
       "    <tr>\n",
       "      <th>...</th>\n",
       "      <td>...</td>\n",
       "      <td>...</td>\n",
       "      <td>...</td>\n",
       "      <td>...</td>\n",
       "      <td>...</td>\n",
       "    </tr>\n",
       "    <tr>\n",
       "      <th>499</th>\n",
       "      <td>US9182041080</td>\n",
       "      <td>VF Corp</td>\n",
       "      <td>8.210000e+00</td>\n",
       "      <td>173747</td>\n",
       "      <td>0.01%</td>\n",
       "    </tr>\n",
       "    <tr>\n",
       "      <th>500</th>\n",
       "      <td>US92556H2067</td>\n",
       "      <td>ViacomCBS Inc</td>\n",
       "      <td>1.198000e+01</td>\n",
       "      <td>186720</td>\n",
       "      <td>0.01%</td>\n",
       "    </tr>\n",
       "    <tr>\n",
       "      <th>501</th>\n",
       "      <td>US9633201069</td>\n",
       "      <td>WHIRLPOOL CORP</td>\n",
       "      <td>1.370000e+00</td>\n",
       "      <td>203262</td>\n",
       "      <td>0.01%</td>\n",
       "    </tr>\n",
       "    <tr>\n",
       "      <th>502</th>\n",
       "      <td>US9897011071</td>\n",
       "      <td>Zions Bancorp NA</td>\n",
       "      <td>3.670000e+00</td>\n",
       "      <td>193681</td>\n",
       "      <td>0.01%</td>\n",
       "    </tr>\n",
       "    <tr>\n",
       "      <th>503</th>\n",
       "      <td>CASH00000001</td>\n",
       "      <td>100%현금설정액</td>\n",
       "      <td>1.410367e+09</td>\n",
       "      <td>1410367445</td>\n",
       "      <td></td>\n",
       "    </tr>\n",
       "  </tbody>\n",
       "</table>\n",
       "<p>504 rows × 5 columns</p>\n",
       "</div>"
      ],
      "text/plain": [
       "             code        company_name      quantity   inf_price percent\n",
       "0    US5949181045           MICROSOFT  1.843100e+02   100984582   7.16%\n",
       "1    US0378331005           APPLE INC  3.625600e+02    88970944   6.31%\n",
       "2    US67066G1040              NVIDIA  6.124000e+01    64016669   4.54%\n",
       "3    US0231351067      Amazon.com Inc  2.255300e+02    52405499   3.72%\n",
       "4    US30303M1027  META PLATFORMS Inc  5.503000e+01    35606557   2.52%\n",
       "..            ...                 ...           ...         ...     ...\n",
       "499  US9182041080             VF Corp  8.210000e+00      173747   0.01%\n",
       "500  US92556H2067       ViacomCBS Inc  1.198000e+01      186720   0.01%\n",
       "501  US9633201069      WHIRLPOOL CORP  1.370000e+00      203262   0.01%\n",
       "502  US9897011071    Zions Bancorp NA  3.670000e+00      193681   0.01%\n",
       "503  CASH00000001           100%현금설정액  1.410367e+09  1410367445        \n",
       "\n",
       "[504 rows x 5 columns]"
      ]
     },
     "execution_count": 16,
     "metadata": {},
     "output_type": "execute_result"
    }
   ],
   "source": [
    "data"
   ]
  },
  {
   "cell_type": "code",
   "execution_count": 27,
   "metadata": {},
   "outputs": [
    {
     "name": "stdout",
     "output_type": "stream",
     "text": [
      "1410367000.0\n"
     ]
    }
   ],
   "source": [
    "print(1.410367e+09)"
   ]
  },
  {
   "cell_type": "code",
   "execution_count": 26,
   "metadata": {},
   "outputs": [
    {
     "name": "stdout",
     "output_type": "stream",
     "text": [
      "['1410367000', '0']\n",
      "None\n"
     ]
    }
   ],
   "source": [
    "def exchager(x):\n",
    "    data = str(x)\n",
    "    print(data.split('.'))\n",
    "    # sliced = data.split('.')[0] + '.' + str.split('.')[1][:2]\n",
    "    return None\n",
    "\n",
    "print(exchager(1.410367e+09))"
   ]
  },
  {
   "cell_type": "code",
   "execution_count": 29,
   "metadata": {},
   "outputs": [
    {
     "data": {
      "text/html": [
       "<div>\n",
       "<style scoped>\n",
       "    .dataframe tbody tr th:only-of-type {\n",
       "        vertical-align: middle;\n",
       "    }\n",
       "\n",
       "    .dataframe tbody tr th {\n",
       "        vertical-align: top;\n",
       "    }\n",
       "\n",
       "    .dataframe thead th {\n",
       "        text-align: right;\n",
       "    }\n",
       "</style>\n",
       "<table border=\"1\" class=\"dataframe\">\n",
       "  <thead>\n",
       "    <tr style=\"text-align: right;\">\n",
       "      <th></th>\n",
       "      <th>code</th>\n",
       "      <th>company_name</th>\n",
       "      <th>quantity</th>\n",
       "      <th>inf_price</th>\n",
       "      <th>percent</th>\n",
       "    </tr>\n",
       "  </thead>\n",
       "  <tbody>\n",
       "    <tr>\n",
       "      <th>503</th>\n",
       "      <td>CASH00000001</td>\n",
       "      <td>100%현금설정액</td>\n",
       "      <td>1.410367e+09</td>\n",
       "      <td>1410367445</td>\n",
       "      <td></td>\n",
       "    </tr>\n",
       "  </tbody>\n",
       "</table>\n",
       "</div>"
      ],
      "text/plain": [
       "             code company_name      quantity   inf_price percent\n",
       "503  CASH00000001    100%현금설정액  1.410367e+09  1410367445        "
      ]
     },
     "execution_count": 29,
     "metadata": {},
     "output_type": "execute_result"
    }
   ],
   "source": [
    "data[data['inf_price'] == data['inf_price'].max()]"
   ]
  },
  {
   "cell_type": "code",
   "execution_count": 32,
   "metadata": {},
   "outputs": [],
   "source": [
    "data = data.drop(index=503)"
   ]
  },
  {
   "cell_type": "code",
   "execution_count": 33,
   "metadata": {},
   "outputs": [
    {
     "data": {
      "text/html": [
       "<div>\n",
       "<style scoped>\n",
       "    .dataframe tbody tr th:only-of-type {\n",
       "        vertical-align: middle;\n",
       "    }\n",
       "\n",
       "    .dataframe tbody tr th {\n",
       "        vertical-align: top;\n",
       "    }\n",
       "\n",
       "    .dataframe thead th {\n",
       "        text-align: right;\n",
       "    }\n",
       "</style>\n",
       "<table border=\"1\" class=\"dataframe\">\n",
       "  <thead>\n",
       "    <tr style=\"text-align: right;\">\n",
       "      <th></th>\n",
       "      <th>code</th>\n",
       "      <th>company_name</th>\n",
       "      <th>quantity</th>\n",
       "      <th>inf_price</th>\n",
       "      <th>percent</th>\n",
       "    </tr>\n",
       "  </thead>\n",
       "  <tbody>\n",
       "    <tr>\n",
       "      <th>0</th>\n",
       "      <td>US5949181045</td>\n",
       "      <td>MICROSOFT</td>\n",
       "      <td>184.31</td>\n",
       "      <td>100984582</td>\n",
       "      <td>7.16%</td>\n",
       "    </tr>\n",
       "  </tbody>\n",
       "</table>\n",
       "</div>"
      ],
      "text/plain": [
       "           code company_name  quantity  inf_price percent\n",
       "0  US5949181045    MICROSOFT    184.31  100984582   7.16%"
      ]
     },
     "execution_count": 33,
     "metadata": {},
     "output_type": "execute_result"
    }
   ],
   "source": [
    "data[data['inf_price'] == data['inf_price'].max()]"
   ]
  }
 ],
 "metadata": {
  "kernelspec": {
   "display_name": "Python 3",
   "language": "python",
   "name": "python3"
  },
  "language_info": {
   "codemirror_mode": {
    "name": "ipython",
    "version": 3
   },
   "file_extension": ".py",
   "mimetype": "text/x-python",
   "name": "python",
   "nbconvert_exporter": "python",
   "pygments_lexer": "ipython3",
   "version": "3.10.13"
  }
 },
 "nbformat": 4,
 "nbformat_minor": 2
}
