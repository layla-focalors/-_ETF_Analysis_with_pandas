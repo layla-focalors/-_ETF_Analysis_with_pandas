{
 "cells": [
  {
   "cell_type": "code",
   "execution_count": 5,
   "metadata": {},
   "outputs": [
    {
     "name": "stdout",
     "output_type": "stream",
     "text": [
      "['datamap.csv']\n"
     ]
    }
   ],
   "source": [
    "import os\n",
    "print(os.listdir('/workspaces/-_ETF_Analysis_with_pandas/data'))"
   ]
  },
  {
   "cell_type": "code",
   "execution_count": 7,
   "metadata": {},
   "outputs": [
    {
     "name": "stdout",
     "output_type": "stream",
     "text": [
      "     No.          종목코드                 종목명         수량(주)     평가금액(원)  비중(%)\n",
      "0      1  US5949181045           MICROSOFT  1.843100e+02   100984582  7.16%\n",
      "1      2  US0378331005           APPLE INC  3.625600e+02    88970944  6.31%\n",
      "2      3  US67066G1040              NVIDIA  6.124000e+01    64016669  4.54%\n",
      "3      4  US0231351067      Amazon.com Inc  2.255300e+02    52405499  3.72%\n",
      "4      5  US30303M1027  META PLATFORMS Inc  5.503000e+01    35606557  2.52%\n",
      "..   ...           ...                 ...           ...         ...    ...\n",
      "499  500  US9182041080             VF Corp  8.210000e+00      173747  0.01%\n",
      "500  501  US92556H2067       ViacomCBS Inc  1.198000e+01      186720  0.01%\n",
      "501  502  US9633201069      WHIRLPOOL CORP  1.370000e+00      203262  0.01%\n",
      "502  503  US9897011071    Zions Bancorp NA  3.670000e+00      193681  0.01%\n",
      "503  504  CASH00000001           100%현금설정액  1.410367e+09  1410367445       \n",
      "\n",
      "[504 rows x 6 columns]\n"
     ]
    }
   ],
   "source": [
    "import pandas as pd \n",
    "data = pd.read_csv('/workspaces/-_ETF_Analysis_with_pandas/data/datamap.csv')\n",
    "print(data)"
   ]
  },
  {
   "cell_type": "code",
   "execution_count": 12,
   "metadata": {},
   "outputs": [],
   "source": [
    "data.columns = ['index1', 'code', 'company_name', 'quantity', 'inf_price', 'percent']"
   ]
  },
  {
   "cell_type": "code",
   "execution_count": 13,
   "metadata": {},
   "outputs": [
    {
     "data": {
      "text/plain": [
       "Index(['index1', 'code', 'company_name', 'quantity', 'inf_price', 'percent'], dtype='object')"
      ]
     },
     "execution_count": 13,
     "metadata": {},
     "output_type": "execute_result"
    }
   ],
   "source": [
    "data.columns"
   ]
  }
 ],
 "metadata": {
  "kernelspec": {
   "display_name": "Python 3",
   "language": "python",
   "name": "python3"
  },
  "language_info": {
   "codemirror_mode": {
    "name": "ipython",
    "version": 3
   },
   "file_extension": ".py",
   "mimetype": "text/x-python",
   "name": "python",
   "nbconvert_exporter": "python",
   "pygments_lexer": "ipython3",
   "version": "3.10.13"
  }
 },
 "nbformat": 4,
 "nbformat_minor": 2
}
